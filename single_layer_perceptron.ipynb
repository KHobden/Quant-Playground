{
 "cells": [
  {
   "cell_type": "markdown",
   "id": "3cf8dc45-9f13-4ff5-9713-73317c01b847",
   "metadata": {},
   "source": [
    "# Single Layer Perceptron\n",
    "\n",
    "Below, we implement a perceptron (or McCulloch-Pitts neuron) to act as a binary classifier and show convergence occurs only for linearly separable boolean functions."
   ]
  },
  {
   "cell_type": "markdown",
   "id": "c5ccb9e9-34eb-42e8-b409-ddf7a89a501d",
   "metadata": {},
   "source": [
    "### Defining the model"
   ]
  },
  {
   "cell_type": "code",
   "execution_count": 1,
   "id": "d52f190d-0eca-4704-a914-7c912f2ced0a",
   "metadata": {},
   "outputs": [],
   "source": [
    "import numpy as np\n",
    "\n",
    "def perceptron(inputs:list, weights:list, bias:float):\n",
    "    \"\"\"\n",
    "    As standard in FNNs, a dot product with weights linearly transforms the inputs.\n",
    "    The Heaviside step function acts as a simple activation function, partitioning our input space.\n",
    "    \"\"\"\n",
    "    prediction = 1 if np.dot(inputs, weights) + bias > 0 else 0\n",
    "    return prediction\n",
    "\n",
    "class ConvergenceError(Exception):\n",
    "    \"\"\"Exception to be thrown when numerical computation does not converge.\"\"\"\n",
    "    pass\n",
    "\n",
    "def train_perceptron(training_data:tuple[tuple[list, int]], learning_rate:float=0.01, tol:float=0.01, max_epochs:int=1000) -> int:\n",
    "    \"\"\"Train the perceptron using the standard perceptron learning algorithm.\"\"\"\n",
    "    # Randomly generate initial weights and bias\n",
    "    *weights, bias = 2*np.random.rand(3)-1\n",
    "    \n",
    "    # In each epoch, classify the inputs improve the estimate for the weights and bias\n",
    "    for epoch in range(max_epochs):\n",
    "        total_epoch_error = 0\n",
    "        for inputs, desired_output in training_data:\n",
    "            prediction = perceptron(inputs, weights, bias)\n",
    "            \n",
    "            # Compute a total error for the epoch\n",
    "            error = desired_output - prediction\n",
    "            total_epoch_error += abs(error)\n",
    "            \n",
    "            weights += learning_rate * error * np.array(inputs)\n",
    "            bias += learning_rate * error\n",
    "        \n",
    "        # If the total error is within tolerance, convergence has occurred.\n",
    "        # For a binary classifier, the accepted tolerance can be zero\n",
    "        if total_epoch_error <= tol:\n",
    "            return weights, bias, epoch\n",
    "\n",
    "    # If convergence could not be achieved, throw an error\n",
    "    else:\n",
    "        raise ConvergenceError(\"Convergence could not be achieved within max_epochs.\")\n",
    "        \n",
    "def demonstrate_training(training_data:tuple[tuple[list, int]]) -> str:\n",
    "    \"\"\"For pedagogical purposes, return a string describing the outcome of perceptron training.\"\"\"\n",
    "    try:\n",
    "        *_, epoch = train_perceptron(training_data)\n",
    "        return f'Convergence occurred in {epoch} epochs.'\n",
    "    except ConvergenceError as e:\n",
    "        return str(e)"
   ]
  },
  {
   "cell_type": "markdown",
   "id": "51af21d2-9a1b-4522-a315-c901441226a5",
   "metadata": {},
   "source": [
    "### Linearly Separable Boolean Functions"
   ]
  },
  {
   "cell_type": "code",
   "execution_count": 2,
   "id": "8d0a457c-9fa0-4a3c-80f2-0a12058dad22",
   "metadata": {},
   "outputs": [
    {
     "data": {
      "text/plain": [
       "'Convergence occurred in 50 epochs.'"
      ]
     },
     "execution_count": 2,
     "metadata": {},
     "output_type": "execute_result"
    }
   ],
   "source": [
    "or_gate = (\n",
    "    ([0,0], 0),\n",
    "    ([1,0], 1),\n",
    "    ([0,1], 1),\n",
    "    ([1,1], 1),\n",
    ")\n",
    "demonstrate_training(training_data=or_gate)"
   ]
  },
  {
   "cell_type": "code",
   "execution_count": 3,
   "id": "4aa63fc8-c685-4043-95cd-ea0ec48c513c",
   "metadata": {},
   "outputs": [
    {
     "data": {
      "text/plain": [
       "'Convergence occurred in 47 epochs.'"
      ]
     },
     "execution_count": 3,
     "metadata": {},
     "output_type": "execute_result"
    }
   ],
   "source": [
    "not_gate = (\n",
    "    ([0,0], 1),\n",
    "    ([1,0], 0),\n",
    "    ([0,1], 1),\n",
    "    ([1,1], 0),\n",
    ")\n",
    "demonstrate_training(training_data=not_gate)"
   ]
  },
  {
   "cell_type": "code",
   "execution_count": 4,
   "id": "f0ce157f-2cb8-4a0a-9123-21f39e963e4e",
   "metadata": {},
   "outputs": [
    {
     "data": {
      "text/plain": [
       "'Convergence occurred in 18 epochs.'"
      ]
     },
     "execution_count": 4,
     "metadata": {},
     "output_type": "execute_result"
    }
   ],
   "source": [
    "and_gate = (\n",
    "    ([0,0], 0),\n",
    "    ([1,0], 0),\n",
    "    ([0,1], 0),\n",
    "    ([1,1], 1),\n",
    ")\n",
    "demonstrate_training(training_data=and_gate)"
   ]
  },
  {
   "cell_type": "code",
   "execution_count": 5,
   "id": "dc9ea821-ef2b-4554-845d-e222fd001684",
   "metadata": {},
   "outputs": [
    {
     "data": {
      "text/plain": [
       "'Convergence occurred in 94 epochs.'"
      ]
     },
     "execution_count": 5,
     "metadata": {},
     "output_type": "execute_result"
    }
   ],
   "source": [
    "nor_gate = (\n",
    "    ([0,0], 0),\n",
    "    ([1,0], 0),\n",
    "    ([0,1], 0),\n",
    "    ([1,1], 1),\n",
    ")\n",
    "demonstrate_training(training_data=nor_gate)"
   ]
  },
  {
   "cell_type": "markdown",
   "id": "8f4a3ee2-caf6-451d-83d8-a7fd9aef0de5",
   "metadata": {},
   "source": [
    "### Non-Linearly Separable Boolean Functions"
   ]
  },
  {
   "cell_type": "code",
   "execution_count": 6,
   "id": "d0018af1-2b93-42be-8a4a-9a6a2267652a",
   "metadata": {},
   "outputs": [
    {
     "data": {
      "text/plain": [
       "'Convergence could not be achieved within max_epochs.'"
      ]
     },
     "execution_count": 6,
     "metadata": {},
     "output_type": "execute_result"
    }
   ],
   "source": [
    "xor_gate = (\n",
    "    ([0,0], 0),\n",
    "    ([1,0], 1),\n",
    "    ([0,1], 1),\n",
    "    ([1,1], 0),\n",
    ")\n",
    "demonstrate_training(training_data=xor_gate)"
   ]
  },
  {
   "cell_type": "code",
   "execution_count": 7,
   "id": "66a20236-adf8-4dd6-b6eb-207a80b915cf",
   "metadata": {},
   "outputs": [
    {
     "data": {
      "text/plain": [
       "'Convergence could not be achieved within max_epochs.'"
      ]
     },
     "execution_count": 7,
     "metadata": {},
     "output_type": "execute_result"
    }
   ],
   "source": [
    "xnor_gate = (\n",
    "    ([0,0], 1),\n",
    "    ([1,0], 0),\n",
    "    ([0,1], 0),\n",
    "    ([1,1], 1),\n",
    ")\n",
    "demonstrate_training(training_data=xnor_gate)"
   ]
  }
 ],
 "metadata": {
  "kernelspec": {
   "display_name": "Python 3 (ipykernel)",
   "language": "python",
   "name": "python3"
  },
  "language_info": {
   "codemirror_mode": {
    "name": "ipython",
    "version": 3
   },
   "file_extension": ".py",
   "mimetype": "text/x-python",
   "name": "python",
   "nbconvert_exporter": "python",
   "pygments_lexer": "ipython3",
   "version": "3.10.7"
  }
 },
 "nbformat": 4,
 "nbformat_minor": 5
}
